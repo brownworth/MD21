{
 "cells": [
  {
   "cell_type": "markdown",
   "metadata": {},
   "source": [
    "Using Pandas and Numpy with Data\n",
    "--"
   ]
  },
  {
   "cell_type": "markdown",
   "metadata": {},
   "source": [
    "First, we'll need to import the libraries."
   ]
  },
  {
   "cell_type": "code",
   "execution_count": 8,
   "metadata": {},
   "outputs": [
    {
     "name": "stdout",
     "output_type": "stream",
     "text": [
      "Requirement already satisfied: lxml in /usr/local/lib/python3.9/site-packages (4.6.3)\r\n"
     ]
    }
   ],
   "source": [
    "!pip3 install lxml"
   ]
  },
  {
   "cell_type": "code",
   "execution_count": 1,
   "metadata": {},
   "outputs": [],
   "source": [
    "import pandas as pd\n",
    "import numpy as np"
   ]
  },
  {
   "cell_type": "markdown",
   "metadata": {},
   "source": [
    "This is an example of how to read a table from Wikipedia, harvest some data, and change it around so that it reads well for NumPy and Pandas.\n",
    "\n",
    "This first entry describes the `.read_html()` function from the Pandas library."
   ]
  },
  {
   "cell_type": "code",
   "execution_count": null,
   "metadata": {},
   "outputs": [],
   "source": [
    "#pd.read_html?"
   ]
  },
  {
   "cell_type": "code",
   "execution_count": 2,
   "metadata": {},
   "outputs": [
    {
     "data": {
      "text/plain": [
       "[                     Parks and Recreation  \\\n",
       " 0                                Season 1   \n",
       " 1                           DVD cover art   \n",
       " 2                                Starring   \n",
       " 3                       Country of origin   \n",
       " 4                         No. of episodes   \n",
       " 5                                 Release   \n",
       " 6                        Original network   \n",
       " 7                        Original release   \n",
       " 8                       Season chronology   \n",
       " 9                          Next →Season 2   \n",
       " 10  List of Parks and Recreation episodes   \n",
       " \n",
       "                                Parks and Recreation.1  \n",
       " 0                                            Season 1  \n",
       " 1                                       DVD cover art  \n",
       " 2   Amy Poehler Rashida Jones Paul Schneider Aziz ...  \n",
       " 3                                       United States  \n",
       " 4                                                   6  \n",
       " 5                                             Release  \n",
       " 6                                                 NBC  \n",
       " 7                                 April 9May 14, 2009  \n",
       " 8                                   Season chronology  \n",
       " 9                                      Next →Season 2  \n",
       " 10              List of Parks and Recreation episodes  ,\n",
       "                                            No.overall  \\\n",
       " 0                                                   1   \n",
       " 1   Ann Perkins (Rashida Jones) attends a town mee...   \n",
       " 2                                                   2   \n",
       " 3   Leslie and the pit subcommittee canvas neighbo...   \n",
       " 4                                                   3   \n",
       " 5   Leslie invites a local reporter (Alison Becker...   \n",
       " 6                                                   4   \n",
       " 7   As Andy cleans up the house to surprise Ann, L...   \n",
       " 8                                                   5   \n",
       " 9   During a banquet honoring her mother's public ...   \n",
       " 10                                                  6   \n",
       " 11  Leslie attends what she believes is a business...   \n",
       " \n",
       "                                          No. inseason  \\\n",
       " 0                                                   1   \n",
       " 1   Ann Perkins (Rashida Jones) attends a town mee...   \n",
       " 2                                                   2   \n",
       " 3   Leslie and the pit subcommittee canvas neighbo...   \n",
       " 4                                                   3   \n",
       " 5   Leslie invites a local reporter (Alison Becker...   \n",
       " 6                                                   4   \n",
       " 7   As Andy cleans up the house to surprise Ann, L...   \n",
       " 8                                                   5   \n",
       " 9   During a banquet honoring her mother's public ...   \n",
       " 10                                                  6   \n",
       " 11  Leslie attends what she believes is a business...   \n",
       " \n",
       "                                                 Title  \\\n",
       " 0                                             \"Pilot\"   \n",
       " 1   Ann Perkins (Rashida Jones) attends a town mee...   \n",
       " 2                                        \"Canvassing\"   \n",
       " 3   Leslie and the pit subcommittee canvas neighbo...   \n",
       " 4                                      \"The Reporter\"   \n",
       " 5   Leslie invites a local reporter (Alison Becker...   \n",
       " 6                                        \"Boys' Club\"   \n",
       " 7   As Andy cleans up the house to surprise Ann, L...   \n",
       " 8                                       \"The Banquet\"   \n",
       " 9   During a banquet honoring her mother's public ...   \n",
       " 10                                       \"Rock Show\"†   \n",
       " 11  Leslie attends what she believes is a business...   \n",
       " \n",
       "                                           Directed by  \\\n",
       " 0                                        Greg Daniels   \n",
       " 1   Ann Perkins (Rashida Jones) attends a town mee...   \n",
       " 2                                         Seth Gordon   \n",
       " 3   Leslie and the pit subcommittee canvas neighbo...   \n",
       " 4                                       Jeffrey Blitz   \n",
       " 5   Leslie invites a local reporter (Alison Becker...   \n",
       " 6                                   Michael McCullers   \n",
       " 7   As Andy cleans up the house to surprise Ann, L...   \n",
       " 8                                Beth McCarthy-Miller   \n",
       " 9   During a banquet honoring her mother's public ...   \n",
       " 10                                      Michael Schur   \n",
       " 11  Leslie attends what she believes is a business...   \n",
       " \n",
       "                                            Written by  \\\n",
       " 0                        Greg Daniels & Michael Schur   \n",
       " 1   Ann Perkins (Rashida Jones) attends a town mee...   \n",
       " 2                                        Rachel Axler   \n",
       " 3   Leslie and the pit subcommittee canvas neighbo...   \n",
       " 4                                            Dan Goor   \n",
       " 5   Leslie invites a local reporter (Alison Becker...   \n",
       " 6                                           Alan Yang   \n",
       " 7   As Andy cleans up the house to surprise Ann, L...   \n",
       " 8                                       Tucker Cawley   \n",
       " 9   During a banquet honoring her mother's public ...   \n",
       " 10                                       Norm Hiscock   \n",
       " 11  Leslie attends what she believes is a business...   \n",
       " \n",
       "                                     Original air date  \\\n",
       " 0                                       April 9, 2009   \n",
       " 1   Ann Perkins (Rashida Jones) attends a town mee...   \n",
       " 2                                      April 16, 2009   \n",
       " 3   Leslie and the pit subcommittee canvas neighbo...   \n",
       " 4                                      April 23, 2009   \n",
       " 5   Leslie invites a local reporter (Alison Becker...   \n",
       " 6                                      April 30, 2009   \n",
       " 7   As Andy cleans up the house to surprise Ann, L...   \n",
       " 8                                         May 7, 2009   \n",
       " 9   During a banquet honoring her mother's public ...   \n",
       " 10                                       May 14, 2009   \n",
       " 11  Leslie attends what she believes is a business...   \n",
       " \n",
       "                                U.S. viewers(millions)  \\\n",
       " 0                                             6.77[4]   \n",
       " 1   Ann Perkins (Rashida Jones) attends a town mee...   \n",
       " 2                                             5.92[5]   \n",
       " 3   Leslie and the pit subcommittee canvas neighbo...   \n",
       " 4                                             5.24[6]   \n",
       " 5   Leslie invites a local reporter (Alison Becker...   \n",
       " 6                                             5.29[7]   \n",
       " 7   As Andy cleans up the house to surprise Ann, L...   \n",
       " 8                                             4.64[8]   \n",
       " 9   During a banquet honoring her mother's public ...   \n",
       " 10                                            4.25[9]   \n",
       " 11  Leslie attends what she believes is a business...   \n",
       " \n",
       "                                            Unnamed: 7  \n",
       " 0                                                 NaN  \n",
       " 1   Ann Perkins (Rashida Jones) attends a town mee...  \n",
       " 2                                                 NaN  \n",
       " 3   Leslie and the pit subcommittee canvas neighbo...  \n",
       " 4                                                 NaN  \n",
       " 5   Leslie invites a local reporter (Alison Becker...  \n",
       " 6                                                 NaN  \n",
       " 7   As Andy cleans up the house to surprise Ann, L...  \n",
       " 8                                                 NaN  \n",
       " 9   During a banquet honoring her mother's public ...  \n",
       " 10                                                NaN  \n",
       " 11  Leslie attends what she believes is a business...  ,\n",
       "    .mw-parser-output .navbar{display:inline;font-size:88%;font-weight:normal}.mw-parser-output .navbar-collapse{float:left;text-align:left}.mw-parser-output .navbar-boxtext{word-spacing:0}.mw-parser-output .navbar ul{display:inline-block;white-space:nowrap;line-height:inherit}.mw-parser-output .navbar-brackets::before{margin-right:-0.125em;content:\"[ \"}.mw-parser-output .navbar-brackets::after{margin-left:-0.125em;content:\" ]\"}.mw-parser-output .navbar li{word-spacing:-0.125em}.mw-parser-output .navbar-mini abbr{font-variant:small-caps;border-bottom:none;text-decoration:none;cursor:inherit}.mw-parser-output .navbar-ct-full{font-size:114%;margin:0 7em}.mw-parser-output .navbar-ct-mini{font-size:114%;margin:0 4em}.mw-parser-output .infobox .navbar{font-size:100%}.mw-parser-output .navbox .navbar{display:block;font-size:100%}.mw-parser-output .navbox-title .navbar{float:left;text-align:left;margin-right:0.5em}vteParks and Recreation  \\\n",
       " 0                                            Episodes                                                                                                                                                                                                                                                                                                                                                                                                                                                                                                                                                                                                                                                                                                                                                                                                                                                                                                                             \n",
       " 1                                            Season 1                                                                                                                                                                                                                                                                                                                                                                                                                                                                                                                                                                                                                                                                                                                                                                                                                                                                                                                             \n",
       " 2                                            Season 2                                                                                                                                                                                                                                                                                                                                                                                                                                                                                                                                                                                                                                                                                                                                                                                                                                                                                                                             \n",
       " 3                                            Season 3                                                                                                                                                                                                                                                                                                                                                                                                                                                                                                                                                                                                                                                                                                                                                                                                                                                                                                                             \n",
       " 4                                            Season 4                                                                                                                                                                                                                                                                                                                                                                                                                                                                                                                                                                                                                                                                                                                                                                                                                                                                                                                             \n",
       " 5                                            Season 5                                                                                                                                                                                                                                                                                                                                                                                                                                                                                                                                                                                                                                                                                                                                                                                                                                                                                                                             \n",
       " 6                                            Season 6                                                                                                                                                                                                                                                                                                                                                                                                                                                                                                                                                                                                                                                                                                                                                                                                                                                                                                                             \n",
       " 7                                            Season 7                                                                                                                                                                                                                                                                                                                                                                                                                                                                                                                                                                                                                                                                                                                                                                                                                                                                                                                             \n",
       " 8                                             Special                                                                                                                                                                                                                                                                                                                                                                                                                                                                                                                                                                                                                                                                                                                                                                                                                                                                                                                             \n",
       " 9                                          Characters                                                                                                                                                                                                                                                                                                                                                                                                                                                                                                                                                                                                                                                                                                                                                                                                                                                                                                                             \n",
       " 10                                            Related                                                                                                                                                                                                                                                                                                                                                                                                                                                                                                                                                                                                                                                                                                                                                                                                                                                                                                                             \n",
       " \n",
       "    .mw-parser-output .navbar{display:inline;font-size:88%;font-weight:normal}.mw-parser-output .navbar-collapse{float:left;text-align:left}.mw-parser-output .navbar-boxtext{word-spacing:0}.mw-parser-output .navbar ul{display:inline-block;white-space:nowrap;line-height:inherit}.mw-parser-output .navbar-brackets::before{margin-right:-0.125em;content:\"[ \"}.mw-parser-output .navbar-brackets::after{margin-left:-0.125em;content:\" ]\"}.mw-parser-output .navbar li{word-spacing:-0.125em}.mw-parser-output .navbar-mini abbr{font-variant:small-caps;border-bottom:none;text-decoration:none;cursor:inherit}.mw-parser-output .navbar-ct-full{font-size:114%;margin:0 7em}.mw-parser-output .navbar-ct-mini{font-size:114%;margin:0 4em}.mw-parser-output .infobox .navbar{font-size:100%}.mw-parser-output .navbox .navbar{display:block;font-size:100%}.mw-parser-output .navbox-title .navbar{float:left;text-align:left;margin-right:0.5em}vteParks and Recreation.1  \n",
       " 0   Season 1 \"Pilot\" \"Canvassing\" \"The Reporter\" \"...                                                                                                                                                                                                                                                                                                                                                                                                                                                                                                                                                                                                                                                                                                                                                                                                                                                                                                                              \n",
       " 1   \"Pilot\" \"Canvassing\" \"The Reporter\" \"Boys' Clu...                                                                                                                                                                                                                                                                                                                                                                                                                                                                                                                                                                                                                                                                                                                                                                                                                                                                                                                              \n",
       " 2   \"Pawnee Zoo\" \"The Stakeout\" \"Beauty Pageant\" \"...                                                                                                                                                                                                                                                                                                                                                                                                                                                                                                                                                                                                                                                                                                                                                                                                                                                                                                                              \n",
       " 3   \"Go Big or Go Home\" \"Flu Season\" \"Time Capsule...                                                                                                                                                                                                                                                                                                                                                                                                                                                                                                                                                                                                                                                                                                                                                                                                                                                                                                                              \n",
       " 4   \"I'm Leslie Knope\" \"Ron and Tammys\" \"Born & Ra...                                                                                                                                                                                                                                                                                                                                                                                                                                                                                                                                                                                                                                                                                                                                                                                                                                                                                                                              \n",
       " 5   \"Ms. Knope Goes to Washington\" \"Soda Tax\" \"How...                                                                                                                                                                                                                                                                                                                                                                                                                                                                                                                                                                                                                                                                                                                                                                                                                                                                                                                              \n",
       " 6                                                 NaN                                                                                                                                                                                                                                                                                                                                                                                                                                                                                                                                                                                                                                                                                                                                                                                                                                                                                                                              \n",
       " 7             \"2017\" \"Leslie and Ron\" \"One Last Ride\"                                                                                                                                                                                                                                                                                                                                                                                                                                                                                                                                                                                                                                                                                                                                                                                                                                                                                                                              \n",
       " 8                    \"A Parks and Recreation Special\"                                                                                                                                                                                                                                                                                                                                                                                                                                                                                                                                                                                                                                                                                                                                                                                                                                                                                                                              \n",
       " 9   Leslie Knope Ron Swanson Tom Haverford Ann Per...                                                                                                                                                                                                                                                                                                                                                                                                                                                                                                                                                                                                                                                                                                                                                                                                                                                                                                                              \n",
       " 10                      Pawnee Awards and nominations                                                                                                                                                                                                                                                                                                                                                                                                                                                                                                                                                                                                                                                                                                                                                                                                                                                                                                                              ,\n",
       "    Season 1  \\\n",
       " 0  Season 2   \n",
       " 1  Season 3   \n",
       " 2  Season 4   \n",
       " 3  Season 5   \n",
       " 4  Season 6   \n",
       " 5  Season 7   \n",
       " 6   Special   \n",
       " \n",
       "   \"Pilot\" \"Canvassing\" \"The Reporter\" \"Boys' Club\" \"The Banquet\" \"Rock Show\"  \n",
       " 0  \"Pawnee Zoo\" \"The Stakeout\" \"Beauty Pageant\" \"...                          \n",
       " 1  \"Go Big or Go Home\" \"Flu Season\" \"Time Capsule...                          \n",
       " 2  \"I'm Leslie Knope\" \"Ron and Tammys\" \"Born & Ra...                          \n",
       " 3  \"Ms. Knope Goes to Washington\" \"Soda Tax\" \"How...                          \n",
       " 4                                                NaN                          \n",
       " 5            \"2017\" \"Leslie and Ron\" \"One Last Ride\"                          \n",
       " 6                   \"A Parks and Recreation Special\"                          ]"
      ]
     },
     "execution_count": 2,
     "metadata": {},
     "output_type": "execute_result"
    }
   ],
   "source": [
    "episodes = pd.read_html(r'https://en.wikipedia.org/wiki/Parks_and_Recreation_%28season_1%29',header=0)\n",
    "episodes"
   ]
  },
  {
   "cell_type": "markdown",
   "metadata": {},
   "source": [
    "Above, we've passed two arguments to the pd.read_html() method. First, we're passing the URL. Pandas will use other installed libraries to connect to this URL and begin extracting the tables as a list. We're also specifying that the first row (0) is where the header information is.\n",
    "\n",
    "In the resulting text, notice the '[' at the beginning, and the ']' all the way at the end? That should be an indication that it is a list.  Of course you could always:"
   ]
  },
  {
   "cell_type": "code",
   "execution_count": 3,
   "metadata": {},
   "outputs": [
    {
     "data": {
      "text/plain": [
       "list"
      ]
     },
     "execution_count": 3,
     "metadata": {},
     "output_type": "execute_result"
    }
   ],
   "source": [
    "type(episodes)"
   ]
  },
  {
   "cell_type": "markdown",
   "metadata": {},
   "source": [
    "Since it is a list, it can be sliced. We just need to figure out which slice we want. Is it the first one? (remember, Python is zero-indexed.)"
   ]
  },
  {
   "cell_type": "code",
   "execution_count": 4,
   "metadata": {},
   "outputs": [
    {
     "data": {
      "text/html": [
       "<div>\n",
       "<style scoped>\n",
       "    .dataframe tbody tr th:only-of-type {\n",
       "        vertical-align: middle;\n",
       "    }\n",
       "\n",
       "    .dataframe tbody tr th {\n",
       "        vertical-align: top;\n",
       "    }\n",
       "\n",
       "    .dataframe thead th {\n",
       "        text-align: right;\n",
       "    }\n",
       "</style>\n",
       "<table border=\"1\" class=\"dataframe\">\n",
       "  <thead>\n",
       "    <tr style=\"text-align: right;\">\n",
       "      <th></th>\n",
       "      <th>Parks and Recreation</th>\n",
       "      <th>Parks and Recreation.1</th>\n",
       "    </tr>\n",
       "  </thead>\n",
       "  <tbody>\n",
       "    <tr>\n",
       "      <th>0</th>\n",
       "      <td>Season 1</td>\n",
       "      <td>Season 1</td>\n",
       "    </tr>\n",
       "    <tr>\n",
       "      <th>1</th>\n",
       "      <td>DVD cover art</td>\n",
       "      <td>DVD cover art</td>\n",
       "    </tr>\n",
       "    <tr>\n",
       "      <th>2</th>\n",
       "      <td>Starring</td>\n",
       "      <td>Amy Poehler Rashida Jones Paul Schneider Aziz ...</td>\n",
       "    </tr>\n",
       "    <tr>\n",
       "      <th>3</th>\n",
       "      <td>Country of origin</td>\n",
       "      <td>United States</td>\n",
       "    </tr>\n",
       "    <tr>\n",
       "      <th>4</th>\n",
       "      <td>No. of episodes</td>\n",
       "      <td>6</td>\n",
       "    </tr>\n",
       "    <tr>\n",
       "      <th>5</th>\n",
       "      <td>Release</td>\n",
       "      <td>Release</td>\n",
       "    </tr>\n",
       "    <tr>\n",
       "      <th>6</th>\n",
       "      <td>Original network</td>\n",
       "      <td>NBC</td>\n",
       "    </tr>\n",
       "    <tr>\n",
       "      <th>7</th>\n",
       "      <td>Original release</td>\n",
       "      <td>April 9May 14, 2009</td>\n",
       "    </tr>\n",
       "    <tr>\n",
       "      <th>8</th>\n",
       "      <td>Season chronology</td>\n",
       "      <td>Season chronology</td>\n",
       "    </tr>\n",
       "    <tr>\n",
       "      <th>9</th>\n",
       "      <td>Next →Season 2</td>\n",
       "      <td>Next →Season 2</td>\n",
       "    </tr>\n",
       "    <tr>\n",
       "      <th>10</th>\n",
       "      <td>List of Parks and Recreation episodes</td>\n",
       "      <td>List of Parks and Recreation episodes</td>\n",
       "    </tr>\n",
       "  </tbody>\n",
       "</table>\n",
       "</div>"
      ],
      "text/plain": [
       "                     Parks and Recreation  \\\n",
       "0                                Season 1   \n",
       "1                           DVD cover art   \n",
       "2                                Starring   \n",
       "3                       Country of origin   \n",
       "4                         No. of episodes   \n",
       "5                                 Release   \n",
       "6                        Original network   \n",
       "7                        Original release   \n",
       "8                       Season chronology   \n",
       "9                          Next →Season 2   \n",
       "10  List of Parks and Recreation episodes   \n",
       "\n",
       "                               Parks and Recreation.1  \n",
       "0                                            Season 1  \n",
       "1                                       DVD cover art  \n",
       "2   Amy Poehler Rashida Jones Paul Schneider Aziz ...  \n",
       "3                                       United States  \n",
       "4                                                   6  \n",
       "5                                             Release  \n",
       "6                                                 NBC  \n",
       "7                                 April 9May 14, 2009  \n",
       "8                                   Season chronology  \n",
       "9                                      Next →Season 2  \n",
       "10              List of Parks and Recreation episodes  "
      ]
     },
     "execution_count": 4,
     "metadata": {},
     "output_type": "execute_result"
    }
   ],
   "source": [
    "episodes[0]"
   ]
  },
  {
   "cell_type": "markdown",
   "metadata": {},
   "source": [
    "While we could do some things with this, this table isn't the full data we're looking to process. For this page, we're looking at the second table, or `episodes[1]`. We'll go ahead and assign that to a variable we're calling 'season'."
   ]
  },
  {
   "cell_type": "code",
   "execution_count": 5,
   "metadata": {
    "scrolled": false
   },
   "outputs": [
    {
     "data": {
      "text/html": [
       "<div>\n",
       "<style scoped>\n",
       "    .dataframe tbody tr th:only-of-type {\n",
       "        vertical-align: middle;\n",
       "    }\n",
       "\n",
       "    .dataframe tbody tr th {\n",
       "        vertical-align: top;\n",
       "    }\n",
       "\n",
       "    .dataframe thead th {\n",
       "        text-align: right;\n",
       "    }\n",
       "</style>\n",
       "<table border=\"1\" class=\"dataframe\">\n",
       "  <thead>\n",
       "    <tr style=\"text-align: right;\">\n",
       "      <th></th>\n",
       "      <th>No.overall</th>\n",
       "      <th>No. inseason</th>\n",
       "      <th>Title</th>\n",
       "      <th>Directed by</th>\n",
       "      <th>Written by</th>\n",
       "      <th>Original air date</th>\n",
       "      <th>U.S. viewers(millions)</th>\n",
       "      <th>Unnamed: 7</th>\n",
       "    </tr>\n",
       "  </thead>\n",
       "  <tbody>\n",
       "    <tr>\n",
       "      <th>0</th>\n",
       "      <td>1</td>\n",
       "      <td>1</td>\n",
       "      <td>\"Pilot\"</td>\n",
       "      <td>Greg Daniels</td>\n",
       "      <td>Greg Daniels &amp; Michael Schur</td>\n",
       "      <td>April 9, 2009</td>\n",
       "      <td>6.77[4]</td>\n",
       "      <td>NaN</td>\n",
       "    </tr>\n",
       "    <tr>\n",
       "      <th>1</th>\n",
       "      <td>Ann Perkins (Rashida Jones) attends a town mee...</td>\n",
       "      <td>Ann Perkins (Rashida Jones) attends a town mee...</td>\n",
       "      <td>Ann Perkins (Rashida Jones) attends a town mee...</td>\n",
       "      <td>Ann Perkins (Rashida Jones) attends a town mee...</td>\n",
       "      <td>Ann Perkins (Rashida Jones) attends a town mee...</td>\n",
       "      <td>Ann Perkins (Rashida Jones) attends a town mee...</td>\n",
       "      <td>Ann Perkins (Rashida Jones) attends a town mee...</td>\n",
       "      <td>Ann Perkins (Rashida Jones) attends a town mee...</td>\n",
       "    </tr>\n",
       "    <tr>\n",
       "      <th>2</th>\n",
       "      <td>2</td>\n",
       "      <td>2</td>\n",
       "      <td>\"Canvassing\"</td>\n",
       "      <td>Seth Gordon</td>\n",
       "      <td>Rachel Axler</td>\n",
       "      <td>April 16, 2009</td>\n",
       "      <td>5.92[5]</td>\n",
       "      <td>NaN</td>\n",
       "    </tr>\n",
       "    <tr>\n",
       "      <th>3</th>\n",
       "      <td>Leslie and the pit subcommittee canvas neighbo...</td>\n",
       "      <td>Leslie and the pit subcommittee canvas neighbo...</td>\n",
       "      <td>Leslie and the pit subcommittee canvas neighbo...</td>\n",
       "      <td>Leslie and the pit subcommittee canvas neighbo...</td>\n",
       "      <td>Leslie and the pit subcommittee canvas neighbo...</td>\n",
       "      <td>Leslie and the pit subcommittee canvas neighbo...</td>\n",
       "      <td>Leslie and the pit subcommittee canvas neighbo...</td>\n",
       "      <td>Leslie and the pit subcommittee canvas neighbo...</td>\n",
       "    </tr>\n",
       "    <tr>\n",
       "      <th>4</th>\n",
       "      <td>3</td>\n",
       "      <td>3</td>\n",
       "      <td>\"The Reporter\"</td>\n",
       "      <td>Jeffrey Blitz</td>\n",
       "      <td>Dan Goor</td>\n",
       "      <td>April 23, 2009</td>\n",
       "      <td>5.24[6]</td>\n",
       "      <td>NaN</td>\n",
       "    </tr>\n",
       "    <tr>\n",
       "      <th>5</th>\n",
       "      <td>Leslie invites a local reporter (Alison Becker...</td>\n",
       "      <td>Leslie invites a local reporter (Alison Becker...</td>\n",
       "      <td>Leslie invites a local reporter (Alison Becker...</td>\n",
       "      <td>Leslie invites a local reporter (Alison Becker...</td>\n",
       "      <td>Leslie invites a local reporter (Alison Becker...</td>\n",
       "      <td>Leslie invites a local reporter (Alison Becker...</td>\n",
       "      <td>Leslie invites a local reporter (Alison Becker...</td>\n",
       "      <td>Leslie invites a local reporter (Alison Becker...</td>\n",
       "    </tr>\n",
       "    <tr>\n",
       "      <th>6</th>\n",
       "      <td>4</td>\n",
       "      <td>4</td>\n",
       "      <td>\"Boys' Club\"</td>\n",
       "      <td>Michael McCullers</td>\n",
       "      <td>Alan Yang</td>\n",
       "      <td>April 30, 2009</td>\n",
       "      <td>5.29[7]</td>\n",
       "      <td>NaN</td>\n",
       "    </tr>\n",
       "    <tr>\n",
       "      <th>7</th>\n",
       "      <td>As Andy cleans up the house to surprise Ann, L...</td>\n",
       "      <td>As Andy cleans up the house to surprise Ann, L...</td>\n",
       "      <td>As Andy cleans up the house to surprise Ann, L...</td>\n",
       "      <td>As Andy cleans up the house to surprise Ann, L...</td>\n",
       "      <td>As Andy cleans up the house to surprise Ann, L...</td>\n",
       "      <td>As Andy cleans up the house to surprise Ann, L...</td>\n",
       "      <td>As Andy cleans up the house to surprise Ann, L...</td>\n",
       "      <td>As Andy cleans up the house to surprise Ann, L...</td>\n",
       "    </tr>\n",
       "    <tr>\n",
       "      <th>8</th>\n",
       "      <td>5</td>\n",
       "      <td>5</td>\n",
       "      <td>\"The Banquet\"</td>\n",
       "      <td>Beth McCarthy-Miller</td>\n",
       "      <td>Tucker Cawley</td>\n",
       "      <td>May 7, 2009</td>\n",
       "      <td>4.64[8]</td>\n",
       "      <td>NaN</td>\n",
       "    </tr>\n",
       "    <tr>\n",
       "      <th>9</th>\n",
       "      <td>During a banquet honoring her mother's public ...</td>\n",
       "      <td>During a banquet honoring her mother's public ...</td>\n",
       "      <td>During a banquet honoring her mother's public ...</td>\n",
       "      <td>During a banquet honoring her mother's public ...</td>\n",
       "      <td>During a banquet honoring her mother's public ...</td>\n",
       "      <td>During a banquet honoring her mother's public ...</td>\n",
       "      <td>During a banquet honoring her mother's public ...</td>\n",
       "      <td>During a banquet honoring her mother's public ...</td>\n",
       "    </tr>\n",
       "    <tr>\n",
       "      <th>10</th>\n",
       "      <td>6</td>\n",
       "      <td>6</td>\n",
       "      <td>\"Rock Show\"†</td>\n",
       "      <td>Michael Schur</td>\n",
       "      <td>Norm Hiscock</td>\n",
       "      <td>May 14, 2009</td>\n",
       "      <td>4.25[9]</td>\n",
       "      <td>NaN</td>\n",
       "    </tr>\n",
       "    <tr>\n",
       "      <th>11</th>\n",
       "      <td>Leslie attends what she believes is a business...</td>\n",
       "      <td>Leslie attends what she believes is a business...</td>\n",
       "      <td>Leslie attends what she believes is a business...</td>\n",
       "      <td>Leslie attends what she believes is a business...</td>\n",
       "      <td>Leslie attends what she believes is a business...</td>\n",
       "      <td>Leslie attends what she believes is a business...</td>\n",
       "      <td>Leslie attends what she believes is a business...</td>\n",
       "      <td>Leslie attends what she believes is a business...</td>\n",
       "    </tr>\n",
       "  </tbody>\n",
       "</table>\n",
       "</div>"
      ],
      "text/plain": [
       "                                           No.overall  \\\n",
       "0                                                   1   \n",
       "1   Ann Perkins (Rashida Jones) attends a town mee...   \n",
       "2                                                   2   \n",
       "3   Leslie and the pit subcommittee canvas neighbo...   \n",
       "4                                                   3   \n",
       "5   Leslie invites a local reporter (Alison Becker...   \n",
       "6                                                   4   \n",
       "7   As Andy cleans up the house to surprise Ann, L...   \n",
       "8                                                   5   \n",
       "9   During a banquet honoring her mother's public ...   \n",
       "10                                                  6   \n",
       "11  Leslie attends what she believes is a business...   \n",
       "\n",
       "                                         No. inseason  \\\n",
       "0                                                   1   \n",
       "1   Ann Perkins (Rashida Jones) attends a town mee...   \n",
       "2                                                   2   \n",
       "3   Leslie and the pit subcommittee canvas neighbo...   \n",
       "4                                                   3   \n",
       "5   Leslie invites a local reporter (Alison Becker...   \n",
       "6                                                   4   \n",
       "7   As Andy cleans up the house to surprise Ann, L...   \n",
       "8                                                   5   \n",
       "9   During a banquet honoring her mother's public ...   \n",
       "10                                                  6   \n",
       "11  Leslie attends what she believes is a business...   \n",
       "\n",
       "                                                Title  \\\n",
       "0                                             \"Pilot\"   \n",
       "1   Ann Perkins (Rashida Jones) attends a town mee...   \n",
       "2                                        \"Canvassing\"   \n",
       "3   Leslie and the pit subcommittee canvas neighbo...   \n",
       "4                                      \"The Reporter\"   \n",
       "5   Leslie invites a local reporter (Alison Becker...   \n",
       "6                                        \"Boys' Club\"   \n",
       "7   As Andy cleans up the house to surprise Ann, L...   \n",
       "8                                       \"The Banquet\"   \n",
       "9   During a banquet honoring her mother's public ...   \n",
       "10                                       \"Rock Show\"†   \n",
       "11  Leslie attends what she believes is a business...   \n",
       "\n",
       "                                          Directed by  \\\n",
       "0                                        Greg Daniels   \n",
       "1   Ann Perkins (Rashida Jones) attends a town mee...   \n",
       "2                                         Seth Gordon   \n",
       "3   Leslie and the pit subcommittee canvas neighbo...   \n",
       "4                                       Jeffrey Blitz   \n",
       "5   Leslie invites a local reporter (Alison Becker...   \n",
       "6                                   Michael McCullers   \n",
       "7   As Andy cleans up the house to surprise Ann, L...   \n",
       "8                                Beth McCarthy-Miller   \n",
       "9   During a banquet honoring her mother's public ...   \n",
       "10                                      Michael Schur   \n",
       "11  Leslie attends what she believes is a business...   \n",
       "\n",
       "                                           Written by  \\\n",
       "0                        Greg Daniels & Michael Schur   \n",
       "1   Ann Perkins (Rashida Jones) attends a town mee...   \n",
       "2                                        Rachel Axler   \n",
       "3   Leslie and the pit subcommittee canvas neighbo...   \n",
       "4                                            Dan Goor   \n",
       "5   Leslie invites a local reporter (Alison Becker...   \n",
       "6                                           Alan Yang   \n",
       "7   As Andy cleans up the house to surprise Ann, L...   \n",
       "8                                       Tucker Cawley   \n",
       "9   During a banquet honoring her mother's public ...   \n",
       "10                                       Norm Hiscock   \n",
       "11  Leslie attends what she believes is a business...   \n",
       "\n",
       "                                    Original air date  \\\n",
       "0                                       April 9, 2009   \n",
       "1   Ann Perkins (Rashida Jones) attends a town mee...   \n",
       "2                                      April 16, 2009   \n",
       "3   Leslie and the pit subcommittee canvas neighbo...   \n",
       "4                                      April 23, 2009   \n",
       "5   Leslie invites a local reporter (Alison Becker...   \n",
       "6                                      April 30, 2009   \n",
       "7   As Andy cleans up the house to surprise Ann, L...   \n",
       "8                                         May 7, 2009   \n",
       "9   During a banquet honoring her mother's public ...   \n",
       "10                                       May 14, 2009   \n",
       "11  Leslie attends what she believes is a business...   \n",
       "\n",
       "                               U.S. viewers(millions)  \\\n",
       "0                                             6.77[4]   \n",
       "1   Ann Perkins (Rashida Jones) attends a town mee...   \n",
       "2                                             5.92[5]   \n",
       "3   Leslie and the pit subcommittee canvas neighbo...   \n",
       "4                                             5.24[6]   \n",
       "5   Leslie invites a local reporter (Alison Becker...   \n",
       "6                                             5.29[7]   \n",
       "7   As Andy cleans up the house to surprise Ann, L...   \n",
       "8                                             4.64[8]   \n",
       "9   During a banquet honoring her mother's public ...   \n",
       "10                                            4.25[9]   \n",
       "11  Leslie attends what she believes is a business...   \n",
       "\n",
       "                                           Unnamed: 7  \n",
       "0                                                 NaN  \n",
       "1   Ann Perkins (Rashida Jones) attends a town mee...  \n",
       "2                                                 NaN  \n",
       "3   Leslie and the pit subcommittee canvas neighbo...  \n",
       "4                                                 NaN  \n",
       "5   Leslie invites a local reporter (Alison Becker...  \n",
       "6                                                 NaN  \n",
       "7   As Andy cleans up the house to surprise Ann, L...  \n",
       "8                                                 NaN  \n",
       "9   During a banquet honoring her mother's public ...  \n",
       "10                                                NaN  \n",
       "11  Leslie attends what she believes is a business...  "
      ]
     },
     "execution_count": 5,
     "metadata": {},
     "output_type": "execute_result"
    }
   ],
   "source": [
    "season = episodes[1]\n",
    "season"
   ]
  },
  {
   "cell_type": "markdown",
   "metadata": {},
   "source": [
    "Notice here that there are a bunch of cells with 'NaN' in them. We talked about 'Not a Number' before, and again NumPy is saying that it couldn't find or interpret data here. We could use some Pandas functions to deal with these cells."
   ]
  },
  {
   "cell_type": "code",
   "execution_count": 6,
   "metadata": {
    "scrolled": true
   },
   "outputs": [
    {
     "data": {
      "text/html": [
       "<div>\n",
       "<style scoped>\n",
       "    .dataframe tbody tr th:only-of-type {\n",
       "        vertical-align: middle;\n",
       "    }\n",
       "\n",
       "    .dataframe tbody tr th {\n",
       "        vertical-align: top;\n",
       "    }\n",
       "\n",
       "    .dataframe thead th {\n",
       "        text-align: right;\n",
       "    }\n",
       "</style>\n",
       "<table border=\"1\" class=\"dataframe\">\n",
       "  <thead>\n",
       "    <tr style=\"text-align: right;\">\n",
       "      <th></th>\n",
       "      <th>No.overall</th>\n",
       "      <th>No. inseason</th>\n",
       "      <th>Title</th>\n",
       "      <th>Directed by</th>\n",
       "      <th>Written by</th>\n",
       "      <th>Original air date</th>\n",
       "      <th>U.S. viewers(millions)</th>\n",
       "      <th>Unnamed: 7</th>\n",
       "    </tr>\n",
       "  </thead>\n",
       "  <tbody>\n",
       "    <tr>\n",
       "      <th>1</th>\n",
       "      <td>Ann Perkins (Rashida Jones) attends a town mee...</td>\n",
       "      <td>Ann Perkins (Rashida Jones) attends a town mee...</td>\n",
       "      <td>Ann Perkins (Rashida Jones) attends a town mee...</td>\n",
       "      <td>Ann Perkins (Rashida Jones) attends a town mee...</td>\n",
       "      <td>Ann Perkins (Rashida Jones) attends a town mee...</td>\n",
       "      <td>Ann Perkins (Rashida Jones) attends a town mee...</td>\n",
       "      <td>Ann Perkins (Rashida Jones) attends a town mee...</td>\n",
       "      <td>Ann Perkins (Rashida Jones) attends a town mee...</td>\n",
       "    </tr>\n",
       "    <tr>\n",
       "      <th>3</th>\n",
       "      <td>Leslie and the pit subcommittee canvas neighbo...</td>\n",
       "      <td>Leslie and the pit subcommittee canvas neighbo...</td>\n",
       "      <td>Leslie and the pit subcommittee canvas neighbo...</td>\n",
       "      <td>Leslie and the pit subcommittee canvas neighbo...</td>\n",
       "      <td>Leslie and the pit subcommittee canvas neighbo...</td>\n",
       "      <td>Leslie and the pit subcommittee canvas neighbo...</td>\n",
       "      <td>Leslie and the pit subcommittee canvas neighbo...</td>\n",
       "      <td>Leslie and the pit subcommittee canvas neighbo...</td>\n",
       "    </tr>\n",
       "    <tr>\n",
       "      <th>5</th>\n",
       "      <td>Leslie invites a local reporter (Alison Becker...</td>\n",
       "      <td>Leslie invites a local reporter (Alison Becker...</td>\n",
       "      <td>Leslie invites a local reporter (Alison Becker...</td>\n",
       "      <td>Leslie invites a local reporter (Alison Becker...</td>\n",
       "      <td>Leslie invites a local reporter (Alison Becker...</td>\n",
       "      <td>Leslie invites a local reporter (Alison Becker...</td>\n",
       "      <td>Leslie invites a local reporter (Alison Becker...</td>\n",
       "      <td>Leslie invites a local reporter (Alison Becker...</td>\n",
       "    </tr>\n",
       "    <tr>\n",
       "      <th>7</th>\n",
       "      <td>As Andy cleans up the house to surprise Ann, L...</td>\n",
       "      <td>As Andy cleans up the house to surprise Ann, L...</td>\n",
       "      <td>As Andy cleans up the house to surprise Ann, L...</td>\n",
       "      <td>As Andy cleans up the house to surprise Ann, L...</td>\n",
       "      <td>As Andy cleans up the house to surprise Ann, L...</td>\n",
       "      <td>As Andy cleans up the house to surprise Ann, L...</td>\n",
       "      <td>As Andy cleans up the house to surprise Ann, L...</td>\n",
       "      <td>As Andy cleans up the house to surprise Ann, L...</td>\n",
       "    </tr>\n",
       "    <tr>\n",
       "      <th>9</th>\n",
       "      <td>During a banquet honoring her mother's public ...</td>\n",
       "      <td>During a banquet honoring her mother's public ...</td>\n",
       "      <td>During a banquet honoring her mother's public ...</td>\n",
       "      <td>During a banquet honoring her mother's public ...</td>\n",
       "      <td>During a banquet honoring her mother's public ...</td>\n",
       "      <td>During a banquet honoring her mother's public ...</td>\n",
       "      <td>During a banquet honoring her mother's public ...</td>\n",
       "      <td>During a banquet honoring her mother's public ...</td>\n",
       "    </tr>\n",
       "    <tr>\n",
       "      <th>11</th>\n",
       "      <td>Leslie attends what she believes is a business...</td>\n",
       "      <td>Leslie attends what she believes is a business...</td>\n",
       "      <td>Leslie attends what she believes is a business...</td>\n",
       "      <td>Leslie attends what she believes is a business...</td>\n",
       "      <td>Leslie attends what she believes is a business...</td>\n",
       "      <td>Leslie attends what she believes is a business...</td>\n",
       "      <td>Leslie attends what she believes is a business...</td>\n",
       "      <td>Leslie attends what she believes is a business...</td>\n",
       "    </tr>\n",
       "  </tbody>\n",
       "</table>\n",
       "</div>"
      ],
      "text/plain": [
       "                                           No.overall  \\\n",
       "1   Ann Perkins (Rashida Jones) attends a town mee...   \n",
       "3   Leslie and the pit subcommittee canvas neighbo...   \n",
       "5   Leslie invites a local reporter (Alison Becker...   \n",
       "7   As Andy cleans up the house to surprise Ann, L...   \n",
       "9   During a banquet honoring her mother's public ...   \n",
       "11  Leslie attends what she believes is a business...   \n",
       "\n",
       "                                         No. inseason  \\\n",
       "1   Ann Perkins (Rashida Jones) attends a town mee...   \n",
       "3   Leslie and the pit subcommittee canvas neighbo...   \n",
       "5   Leslie invites a local reporter (Alison Becker...   \n",
       "7   As Andy cleans up the house to surprise Ann, L...   \n",
       "9   During a banquet honoring her mother's public ...   \n",
       "11  Leslie attends what she believes is a business...   \n",
       "\n",
       "                                                Title  \\\n",
       "1   Ann Perkins (Rashida Jones) attends a town mee...   \n",
       "3   Leslie and the pit subcommittee canvas neighbo...   \n",
       "5   Leslie invites a local reporter (Alison Becker...   \n",
       "7   As Andy cleans up the house to surprise Ann, L...   \n",
       "9   During a banquet honoring her mother's public ...   \n",
       "11  Leslie attends what she believes is a business...   \n",
       "\n",
       "                                          Directed by  \\\n",
       "1   Ann Perkins (Rashida Jones) attends a town mee...   \n",
       "3   Leslie and the pit subcommittee canvas neighbo...   \n",
       "5   Leslie invites a local reporter (Alison Becker...   \n",
       "7   As Andy cleans up the house to surprise Ann, L...   \n",
       "9   During a banquet honoring her mother's public ...   \n",
       "11  Leslie attends what she believes is a business...   \n",
       "\n",
       "                                           Written by  \\\n",
       "1   Ann Perkins (Rashida Jones) attends a town mee...   \n",
       "3   Leslie and the pit subcommittee canvas neighbo...   \n",
       "5   Leslie invites a local reporter (Alison Becker...   \n",
       "7   As Andy cleans up the house to surprise Ann, L...   \n",
       "9   During a banquet honoring her mother's public ...   \n",
       "11  Leslie attends what she believes is a business...   \n",
       "\n",
       "                                    Original air date  \\\n",
       "1   Ann Perkins (Rashida Jones) attends a town mee...   \n",
       "3   Leslie and the pit subcommittee canvas neighbo...   \n",
       "5   Leslie invites a local reporter (Alison Becker...   \n",
       "7   As Andy cleans up the house to surprise Ann, L...   \n",
       "9   During a banquet honoring her mother's public ...   \n",
       "11  Leslie attends what she believes is a business...   \n",
       "\n",
       "                               U.S. viewers(millions)  \\\n",
       "1   Ann Perkins (Rashida Jones) attends a town mee...   \n",
       "3   Leslie and the pit subcommittee canvas neighbo...   \n",
       "5   Leslie invites a local reporter (Alison Becker...   \n",
       "7   As Andy cleans up the house to surprise Ann, L...   \n",
       "9   During a banquet honoring her mother's public ...   \n",
       "11  Leslie attends what she believes is a business...   \n",
       "\n",
       "                                           Unnamed: 7  \n",
       "1   Ann Perkins (Rashida Jones) attends a town mee...  \n",
       "3   Leslie and the pit subcommittee canvas neighbo...  \n",
       "5   Leslie invites a local reporter (Alison Becker...  \n",
       "7   As Andy cleans up the house to surprise Ann, L...  \n",
       "9   During a banquet honoring her mother's public ...  \n",
       "11  Leslie attends what she believes is a business...  "
      ]
     },
     "execution_count": 6,
     "metadata": {},
     "output_type": "execute_result"
    }
   ],
   "source": [
    "season.dropna()"
   ]
  },
  {
   "cell_type": "markdown",
   "metadata": {},
   "source": [
    "The .dropna() method effectively drops any rows where there are one or more NaN entries. Unfortunately, while there were rows that contained NaN, there were still some cells in those rows with data in them. By default, .dropna() has the argument **how='any'**. Meaning, if a row contains one or more NaN, then .dropna() will drop it. Instead, we can use .dropna(how='all'). This will only drop rows where all cells are NaN."
   ]
  },
  {
   "cell_type": "code",
   "execution_count": 7,
   "metadata": {
    "scrolled": false
   },
   "outputs": [
    {
     "data": {
      "text/html": [
       "<div>\n",
       "<style scoped>\n",
       "    .dataframe tbody tr th:only-of-type {\n",
       "        vertical-align: middle;\n",
       "    }\n",
       "\n",
       "    .dataframe tbody tr th {\n",
       "        vertical-align: top;\n",
       "    }\n",
       "\n",
       "    .dataframe thead th {\n",
       "        text-align: right;\n",
       "    }\n",
       "</style>\n",
       "<table border=\"1\" class=\"dataframe\">\n",
       "  <thead>\n",
       "    <tr style=\"text-align: right;\">\n",
       "      <th></th>\n",
       "      <th>No.overall</th>\n",
       "      <th>No. inseason</th>\n",
       "      <th>Title</th>\n",
       "      <th>Directed by</th>\n",
       "      <th>Written by</th>\n",
       "      <th>Original air date</th>\n",
       "      <th>U.S. viewers(millions)</th>\n",
       "      <th>Unnamed: 7</th>\n",
       "    </tr>\n",
       "  </thead>\n",
       "  <tbody>\n",
       "    <tr>\n",
       "      <th>0</th>\n",
       "      <td>1</td>\n",
       "      <td>1</td>\n",
       "      <td>\"Pilot\"</td>\n",
       "      <td>Greg Daniels</td>\n",
       "      <td>Greg Daniels &amp; Michael Schur</td>\n",
       "      <td>April 9, 2009</td>\n",
       "      <td>6.77[4]</td>\n",
       "      <td>NaN</td>\n",
       "    </tr>\n",
       "    <tr>\n",
       "      <th>1</th>\n",
       "      <td>Ann Perkins (Rashida Jones) attends a town mee...</td>\n",
       "      <td>Ann Perkins (Rashida Jones) attends a town mee...</td>\n",
       "      <td>Ann Perkins (Rashida Jones) attends a town mee...</td>\n",
       "      <td>Ann Perkins (Rashida Jones) attends a town mee...</td>\n",
       "      <td>Ann Perkins (Rashida Jones) attends a town mee...</td>\n",
       "      <td>Ann Perkins (Rashida Jones) attends a town mee...</td>\n",
       "      <td>Ann Perkins (Rashida Jones) attends a town mee...</td>\n",
       "      <td>Ann Perkins (Rashida Jones) attends a town mee...</td>\n",
       "    </tr>\n",
       "    <tr>\n",
       "      <th>2</th>\n",
       "      <td>2</td>\n",
       "      <td>2</td>\n",
       "      <td>\"Canvassing\"</td>\n",
       "      <td>Seth Gordon</td>\n",
       "      <td>Rachel Axler</td>\n",
       "      <td>April 16, 2009</td>\n",
       "      <td>5.92[5]</td>\n",
       "      <td>NaN</td>\n",
       "    </tr>\n",
       "    <tr>\n",
       "      <th>3</th>\n",
       "      <td>Leslie and the pit subcommittee canvas neighbo...</td>\n",
       "      <td>Leslie and the pit subcommittee canvas neighbo...</td>\n",
       "      <td>Leslie and the pit subcommittee canvas neighbo...</td>\n",
       "      <td>Leslie and the pit subcommittee canvas neighbo...</td>\n",
       "      <td>Leslie and the pit subcommittee canvas neighbo...</td>\n",
       "      <td>Leslie and the pit subcommittee canvas neighbo...</td>\n",
       "      <td>Leslie and the pit subcommittee canvas neighbo...</td>\n",
       "      <td>Leslie and the pit subcommittee canvas neighbo...</td>\n",
       "    </tr>\n",
       "    <tr>\n",
       "      <th>4</th>\n",
       "      <td>3</td>\n",
       "      <td>3</td>\n",
       "      <td>\"The Reporter\"</td>\n",
       "      <td>Jeffrey Blitz</td>\n",
       "      <td>Dan Goor</td>\n",
       "      <td>April 23, 2009</td>\n",
       "      <td>5.24[6]</td>\n",
       "      <td>NaN</td>\n",
       "    </tr>\n",
       "    <tr>\n",
       "      <th>5</th>\n",
       "      <td>Leslie invites a local reporter (Alison Becker...</td>\n",
       "      <td>Leslie invites a local reporter (Alison Becker...</td>\n",
       "      <td>Leslie invites a local reporter (Alison Becker...</td>\n",
       "      <td>Leslie invites a local reporter (Alison Becker...</td>\n",
       "      <td>Leslie invites a local reporter (Alison Becker...</td>\n",
       "      <td>Leslie invites a local reporter (Alison Becker...</td>\n",
       "      <td>Leslie invites a local reporter (Alison Becker...</td>\n",
       "      <td>Leslie invites a local reporter (Alison Becker...</td>\n",
       "    </tr>\n",
       "    <tr>\n",
       "      <th>6</th>\n",
       "      <td>4</td>\n",
       "      <td>4</td>\n",
       "      <td>\"Boys' Club\"</td>\n",
       "      <td>Michael McCullers</td>\n",
       "      <td>Alan Yang</td>\n",
       "      <td>April 30, 2009</td>\n",
       "      <td>5.29[7]</td>\n",
       "      <td>NaN</td>\n",
       "    </tr>\n",
       "    <tr>\n",
       "      <th>7</th>\n",
       "      <td>As Andy cleans up the house to surprise Ann, L...</td>\n",
       "      <td>As Andy cleans up the house to surprise Ann, L...</td>\n",
       "      <td>As Andy cleans up the house to surprise Ann, L...</td>\n",
       "      <td>As Andy cleans up the house to surprise Ann, L...</td>\n",
       "      <td>As Andy cleans up the house to surprise Ann, L...</td>\n",
       "      <td>As Andy cleans up the house to surprise Ann, L...</td>\n",
       "      <td>As Andy cleans up the house to surprise Ann, L...</td>\n",
       "      <td>As Andy cleans up the house to surprise Ann, L...</td>\n",
       "    </tr>\n",
       "    <tr>\n",
       "      <th>8</th>\n",
       "      <td>5</td>\n",
       "      <td>5</td>\n",
       "      <td>\"The Banquet\"</td>\n",
       "      <td>Beth McCarthy-Miller</td>\n",
       "      <td>Tucker Cawley</td>\n",
       "      <td>May 7, 2009</td>\n",
       "      <td>4.64[8]</td>\n",
       "      <td>NaN</td>\n",
       "    </tr>\n",
       "    <tr>\n",
       "      <th>9</th>\n",
       "      <td>During a banquet honoring her mother's public ...</td>\n",
       "      <td>During a banquet honoring her mother's public ...</td>\n",
       "      <td>During a banquet honoring her mother's public ...</td>\n",
       "      <td>During a banquet honoring her mother's public ...</td>\n",
       "      <td>During a banquet honoring her mother's public ...</td>\n",
       "      <td>During a banquet honoring her mother's public ...</td>\n",
       "      <td>During a banquet honoring her mother's public ...</td>\n",
       "      <td>During a banquet honoring her mother's public ...</td>\n",
       "    </tr>\n",
       "    <tr>\n",
       "      <th>10</th>\n",
       "      <td>6</td>\n",
       "      <td>6</td>\n",
       "      <td>\"Rock Show\"†</td>\n",
       "      <td>Michael Schur</td>\n",
       "      <td>Norm Hiscock</td>\n",
       "      <td>May 14, 2009</td>\n",
       "      <td>4.25[9]</td>\n",
       "      <td>NaN</td>\n",
       "    </tr>\n",
       "    <tr>\n",
       "      <th>11</th>\n",
       "      <td>Leslie attends what she believes is a business...</td>\n",
       "      <td>Leslie attends what she believes is a business...</td>\n",
       "      <td>Leslie attends what she believes is a business...</td>\n",
       "      <td>Leslie attends what she believes is a business...</td>\n",
       "      <td>Leslie attends what she believes is a business...</td>\n",
       "      <td>Leslie attends what she believes is a business...</td>\n",
       "      <td>Leslie attends what she believes is a business...</td>\n",
       "      <td>Leslie attends what she believes is a business...</td>\n",
       "    </tr>\n",
       "  </tbody>\n",
       "</table>\n",
       "</div>"
      ],
      "text/plain": [
       "                                           No.overall  \\\n",
       "0                                                   1   \n",
       "1   Ann Perkins (Rashida Jones) attends a town mee...   \n",
       "2                                                   2   \n",
       "3   Leslie and the pit subcommittee canvas neighbo...   \n",
       "4                                                   3   \n",
       "5   Leslie invites a local reporter (Alison Becker...   \n",
       "6                                                   4   \n",
       "7   As Andy cleans up the house to surprise Ann, L...   \n",
       "8                                                   5   \n",
       "9   During a banquet honoring her mother's public ...   \n",
       "10                                                  6   \n",
       "11  Leslie attends what she believes is a business...   \n",
       "\n",
       "                                         No. inseason  \\\n",
       "0                                                   1   \n",
       "1   Ann Perkins (Rashida Jones) attends a town mee...   \n",
       "2                                                   2   \n",
       "3   Leslie and the pit subcommittee canvas neighbo...   \n",
       "4                                                   3   \n",
       "5   Leslie invites a local reporter (Alison Becker...   \n",
       "6                                                   4   \n",
       "7   As Andy cleans up the house to surprise Ann, L...   \n",
       "8                                                   5   \n",
       "9   During a banquet honoring her mother's public ...   \n",
       "10                                                  6   \n",
       "11  Leslie attends what she believes is a business...   \n",
       "\n",
       "                                                Title  \\\n",
       "0                                             \"Pilot\"   \n",
       "1   Ann Perkins (Rashida Jones) attends a town mee...   \n",
       "2                                        \"Canvassing\"   \n",
       "3   Leslie and the pit subcommittee canvas neighbo...   \n",
       "4                                      \"The Reporter\"   \n",
       "5   Leslie invites a local reporter (Alison Becker...   \n",
       "6                                        \"Boys' Club\"   \n",
       "7   As Andy cleans up the house to surprise Ann, L...   \n",
       "8                                       \"The Banquet\"   \n",
       "9   During a banquet honoring her mother's public ...   \n",
       "10                                       \"Rock Show\"†   \n",
       "11  Leslie attends what she believes is a business...   \n",
       "\n",
       "                                          Directed by  \\\n",
       "0                                        Greg Daniels   \n",
       "1   Ann Perkins (Rashida Jones) attends a town mee...   \n",
       "2                                         Seth Gordon   \n",
       "3   Leslie and the pit subcommittee canvas neighbo...   \n",
       "4                                       Jeffrey Blitz   \n",
       "5   Leslie invites a local reporter (Alison Becker...   \n",
       "6                                   Michael McCullers   \n",
       "7   As Andy cleans up the house to surprise Ann, L...   \n",
       "8                                Beth McCarthy-Miller   \n",
       "9   During a banquet honoring her mother's public ...   \n",
       "10                                      Michael Schur   \n",
       "11  Leslie attends what she believes is a business...   \n",
       "\n",
       "                                           Written by  \\\n",
       "0                        Greg Daniels & Michael Schur   \n",
       "1   Ann Perkins (Rashida Jones) attends a town mee...   \n",
       "2                                        Rachel Axler   \n",
       "3   Leslie and the pit subcommittee canvas neighbo...   \n",
       "4                                            Dan Goor   \n",
       "5   Leslie invites a local reporter (Alison Becker...   \n",
       "6                                           Alan Yang   \n",
       "7   As Andy cleans up the house to surprise Ann, L...   \n",
       "8                                       Tucker Cawley   \n",
       "9   During a banquet honoring her mother's public ...   \n",
       "10                                       Norm Hiscock   \n",
       "11  Leslie attends what she believes is a business...   \n",
       "\n",
       "                                    Original air date  \\\n",
       "0                                       April 9, 2009   \n",
       "1   Ann Perkins (Rashida Jones) attends a town mee...   \n",
       "2                                      April 16, 2009   \n",
       "3   Leslie and the pit subcommittee canvas neighbo...   \n",
       "4                                      April 23, 2009   \n",
       "5   Leslie invites a local reporter (Alison Becker...   \n",
       "6                                      April 30, 2009   \n",
       "7   As Andy cleans up the house to surprise Ann, L...   \n",
       "8                                         May 7, 2009   \n",
       "9   During a banquet honoring her mother's public ...   \n",
       "10                                       May 14, 2009   \n",
       "11  Leslie attends what she believes is a business...   \n",
       "\n",
       "                               U.S. viewers(millions)  \\\n",
       "0                                             6.77[4]   \n",
       "1   Ann Perkins (Rashida Jones) attends a town mee...   \n",
       "2                                             5.92[5]   \n",
       "3   Leslie and the pit subcommittee canvas neighbo...   \n",
       "4                                             5.24[6]   \n",
       "5   Leslie invites a local reporter (Alison Becker...   \n",
       "6                                             5.29[7]   \n",
       "7   As Andy cleans up the house to surprise Ann, L...   \n",
       "8                                             4.64[8]   \n",
       "9   During a banquet honoring her mother's public ...   \n",
       "10                                            4.25[9]   \n",
       "11  Leslie attends what she believes is a business...   \n",
       "\n",
       "                                           Unnamed: 7  \n",
       "0                                                 NaN  \n",
       "1   Ann Perkins (Rashida Jones) attends a town mee...  \n",
       "2                                                 NaN  \n",
       "3   Leslie and the pit subcommittee canvas neighbo...  \n",
       "4                                                 NaN  \n",
       "5   Leslie invites a local reporter (Alison Becker...  \n",
       "6                                                 NaN  \n",
       "7   As Andy cleans up the house to surprise Ann, L...  \n",
       "8                                                 NaN  \n",
       "9   During a banquet honoring her mother's public ...  \n",
       "10                                                NaN  \n",
       "11  Leslie attends what she believes is a business...  "
      ]
     },
     "execution_count": 7,
     "metadata": {},
     "output_type": "execute_result"
    }
   ],
   "source": [
    "season.dropna(how='all')"
   ]
  },
  {
   "cell_type": "markdown",
   "metadata": {},
   "source": [
    "This doesn't show anything here, as we don't have any rows that are completely filled with NaN. But, we can use .fillna() to automatically change that value to something else that may be relevant to your data collection methods."
   ]
  },
  {
   "cell_type": "code",
   "execution_count": null,
   "metadata": {},
   "outputs": [],
   "source": [
    "season.fillna(-999)"
   ]
  },
  {
   "cell_type": "markdown",
   "metadata": {},
   "source": [
    ".fillna() has multiple methods, like forward fill, backward fill, interpolation."
   ]
  },
  {
   "cell_type": "code",
   "execution_count": null,
   "metadata": {},
   "outputs": [],
   "source": [
    "# season.fillna?"
   ]
  },
  {
   "cell_type": "code",
   "execution_count": null,
   "metadata": {},
   "outputs": [],
   "source": [
    "season.fillna(method='ffill')"
   ]
  },
  {
   "cell_type": "markdown",
   "metadata": {},
   "source": [
    "while .fillna() is useful, the information contained in surrounding cells isn't that useful to us. It appears that in the case of this table, the first row (row 0) and each alternating row has information about the episode, and the second row (row 1) and each alternating row has the episode description of the previous episode. How do we deal with that? Slices, of course!"
   ]
  },
  {
   "cell_type": "code",
   "execution_count": null,
   "metadata": {},
   "outputs": [],
   "source": [
    "season[1::2]"
   ]
  },
  {
   "cell_type": "markdown",
   "metadata": {},
   "source": [
    "These slices will get us the descriptions alone, but we repeating the content over a bunch of cells, and it's extraneous. Let's drop those using the indexers."
   ]
  },
  {
   "cell_type": "code",
   "execution_count": null,
   "metadata": {},
   "outputs": [],
   "source": [
    "season[1::2].iloc[:,0]"
   ]
  },
  {
   "cell_type": "markdown",
   "metadata": {},
   "source": [
    "Pandas really wants to maintain the indices, which is usually really helpful - it helps prevent data mismatches down the road. But, what if we really want to ignore the index? We can reset it."
   ]
  },
  {
   "cell_type": "code",
   "execution_count": null,
   "metadata": {},
   "outputs": [],
   "source": [
    "season[1::2].iloc[:,0].reset_index()"
   ]
  },
  {
   "cell_type": "markdown",
   "metadata": {},
   "source": [
    "Here we have created a new index, but Pandas (trying to save us from ourselves) has kept the index values from before, but in a separate Series within the new DataFrame. All we have to do now is drop it. While we're at it, let's go ahead and create an episode description variable and set it equal to this new series."
   ]
  },
  {
   "cell_type": "code",
   "execution_count": null,
   "metadata": {},
   "outputs": [],
   "source": [
    "episode_desc = season[1::2].iloc[:,0].reset_index().drop('index',axis=1)\n",
    "episode_desc"
   ]
  },
  {
   "cell_type": "markdown",
   "metadata": {},
   "source": [
    "The column name (No. Overall) doesn't make any sense, so we'll use the `.rename()` method to rename the columns using a dictionary with a single key-value pair."
   ]
  },
  {
   "cell_type": "code",
   "execution_count": null,
   "metadata": {
    "scrolled": true
   },
   "outputs": [],
   "source": [
    "episode_desc = episode_desc.rename(columns = {'No.overall':'Description'})\n",
    "episode_desc"
   ]
  },
  {
   "cell_type": "markdown",
   "metadata": {},
   "source": [
    "For the other cells in the season dataframe, we want to start at the first row (row 0) and alternate getting all of the ones with the data. Since the procedure will be almost exactly the same as before, we'll skip ahead to the final part. We'll also drop any columns that don't contribute much."
   ]
  },
  {
   "cell_type": "code",
   "execution_count": null,
   "metadata": {
    "scrolled": true
   },
   "outputs": [],
   "source": [
    "episode_data = season[0::2].reset_index().drop('index',axis=1)\n",
    "episode_data = episode_data.drop('Unnamed: 7',axis=1)\n",
    "episode_data"
   ]
  },
  {
   "cell_type": "markdown",
   "metadata": {},
   "source": [
    "Now we have a list of data and a list of descriptions. By wonderful coincidence (not really), they both have the same number of cells. Let's check to be certain."
   ]
  },
  {
   "cell_type": "markdown",
   "metadata": {},
   "source": [
    "aside: programming languages are funny about the equals sign '='. A lot of times, we want to see if something is equal to something else. Python assumes that a single equals means that you are **making a thing equal to some other thing**.\n",
    "\n",
    "If you want to check to see if two entities *are equal* then you will use the double equal '=='\n",
    "\n",
    "single = 'is'\n",
    "\n",
    "`age = 5`\n",
    "\n",
    "age _is_ 5\n",
    "\n",
    "double == 'is it'\n",
    "\n",
    "`age == 5`\n",
    "\n",
    "age, _is it_ 5?\n",
    "\n",
    "this is a largely semantic discussion, but you would be surprised how often it causes problems."
   ]
  },
  {
   "cell_type": "code",
   "execution_count": null,
   "metadata": {},
   "outputs": [],
   "source": [
    "len(episode_data) == len(episode_desc)"
   ]
  },
  {
   "cell_type": "markdown",
   "metadata": {},
   "source": [
    "Now, let's concatenate the data DataFrame, and the description Series. Remember to specify axis."
   ]
  },
  {
   "cell_type": "code",
   "execution_count": null,
   "metadata": {},
   "outputs": [],
   "source": [
    "episode_list = pd.concat([episode_data,episode_desc],axis=1)"
   ]
  },
  {
   "cell_type": "markdown",
   "metadata": {},
   "source": [
    "Checking the column heads just to be certain."
   ]
  },
  {
   "cell_type": "code",
   "execution_count": null,
   "metadata": {},
   "outputs": [],
   "source": [
    "episode_list.columns"
   ]
  },
  {
   "cell_type": "markdown",
   "metadata": {},
   "source": [
    "Setting the index to one of the unique Series in the DataFrame. 'No. Overall' makes sense."
   ]
  },
  {
   "cell_type": "code",
   "execution_count": null,
   "metadata": {
    "scrolled": true
   },
   "outputs": [],
   "source": [
    "episode_list = episode_list.set_index('No.overall')"
   ]
  },
  {
   "cell_type": "code",
   "execution_count": null,
   "metadata": {},
   "outputs": [],
   "source": [
    "episode_list"
   ]
  },
  {
   "cell_type": "markdown",
   "metadata": {},
   "source": [
    "For the sake of space, the preview here doesn't show all the information, but you can definitely check the contents by using the `.values` property."
   ]
  },
  {
   "cell_type": "code",
   "execution_count": null,
   "metadata": {
    "scrolled": true
   },
   "outputs": [],
   "source": [
    "episode_list['Description'].values"
   ]
  },
  {
   "cell_type": "markdown",
   "metadata": {},
   "source": [
    "Indexers can be used like slices. They have the brackets and colons, but they can also be used in conjunction with commas to indicate two dimensions. In the first example, we use our knowledge of slices on a DataFrame to separate content out in two different ways. We're also using the NumPy `.all()` method to verify that the two sections are equivalent. We can also check the number of entries by using the `.len()` method."
   ]
  },
  {
   "cell_type": "code",
   "execution_count": null,
   "metadata": {},
   "outputs": [],
   "source": [
    "print(np.all(season[1::2].iloc[:,0] == season.iloc[1::2,0]))\n",
    "print(len(season[1::2].iloc[:,0]))\n",
    "print(len(season.iloc[1::2,0]))"
   ]
  },
  {
   "cell_type": "markdown",
   "metadata": {},
   "source": [
    "Be careful when mixing integers with strings for `.loc[]` and `.iloc[]`. Since they both return dataframes (try `type()`) you can always nest the functions if needed. Also, if you need non-contiguous ranges, you can use tuples. We haven't talked much about tuples, but they're basically lists that are _immutable_ to a degree. We won't go too far down this road. Basically, if it looks like a list, but it's surrounded by parentheses, it's a tuple."
   ]
  },
  {
   "cell_type": "code",
   "execution_count": null,
   "metadata": {},
   "outputs": [],
   "source": [
    "print(type(episode_list))\n",
    "print(type(episode_list.iloc[2:4,1:5]))\n",
    "print(type(episode_list.iloc[2:5].loc[:,('Title','Written by')]))"
   ]
  },
  {
   "cell_type": "code",
   "execution_count": null,
   "metadata": {},
   "outputs": [],
   "source": [
    "# episode_list.iloc[2:4,1:5]\n",
    "# episode_list.iloc[2:5].loc[:,('Title','Written by')]"
   ]
  },
  {
   "cell_type": "markdown",
   "metadata": {},
   "source": [
    "In fact, all of these are functionally equivalent:"
   ]
  },
  {
   "cell_type": "code",
   "execution_count": null,
   "metadata": {
    "scrolled": false
   },
   "outputs": [],
   "source": [
    "# .loc uses strings to locate cells\n",
    "episode_list.loc[:,'Title']\n",
    "\n",
    "# .iloc uses integers to locate cells\n",
    "episode_list.iloc[:,1] \n",
    "\n",
    "# .ix uses strings first, but can use integers if none are available.\n",
    "# It's deprecated, so don't expect it to be here long.\n",
    "#episode_list.ix[:,'Title']\n",
    "\n",
    "#episode_list.ix[:,1]\n",
    "\n",
    "# alternatively, you can refer to the specific column head\n",
    "episode_list['Title']\n",
    "\n",
    "# or use dot notation (if there are no spaces in the column head).\n",
    "episode_list.Title"
   ]
  },
  {
   "cell_type": "code",
   "execution_count": null,
   "metadata": {},
   "outputs": [],
   "source": [
    "np.all(episode_list.loc[:,'Title'] == episode_list.iloc[:,1])"
   ]
  },
  {
   "cell_type": "code",
   "execution_count": null,
   "metadata": {},
   "outputs": [],
   "source": [
    "episode_list"
   ]
  },
  {
   "cell_type": "markdown",
   "metadata": {},
   "source": [
    "Looking at the viewer numbers, they are formatted like this:\n",
    "\n",
    "`4.70[19]`\n",
    "\n",
    "Unfortunately, Pandas doesn't know what to do with this; the format isn't anything it recognizes. So, we're going to temporarily convert it to a string (using the `.str` accessor), and use some string methods on it. Specifically, we'll use the `.split()` method again. This time, however, there isn't a space to _split_ on. As we mentioned before, the `.split()` method allows you to split on a specified character - we'll use the open bracket, as it separates the number from the footnote."
   ]
  },
  {
   "cell_type": "code",
   "execution_count": null,
   "metadata": {},
   "outputs": [],
   "source": [
    "episode_list.iloc[:,5].str.split('[')"
   ]
  },
  {
   "cell_type": "markdown",
   "metadata": {},
   "source": [
    "The cells are each split into two values. The numbers before the '[', and everything else. We only care about the stuff in the front, so we'll grab it with (you guessed it) a slice. While we're at it, we're going to go ahead and convert everything to a float, so we can have a number with a decimal."
   ]
  },
  {
   "cell_type": "code",
   "execution_count": null,
   "metadata": {},
   "outputs": [],
   "source": [
    "episode_list.iloc[:,5] = episode_list.iloc[:,5].str.split('[').str[0].astype('Float32')"
   ]
  },
  {
   "cell_type": "markdown",
   "metadata": {},
   "source": [
    "And, since it is a number (specifically, a float) we can do math operations on it."
   ]
  },
  {
   "cell_type": "code",
   "execution_count": null,
   "metadata": {},
   "outputs": [],
   "source": [
    "episode_list.iloc[:,5].median()"
   ]
  },
  {
   "cell_type": "markdown",
   "metadata": {},
   "source": [
    "Now, we're going to use the .apply() method to apply a function to a column. We're going to convert the 'Original air date' column to a DateTime object. Pandas will try to see if there are ways to interpret the information in these cells as dates. First, let's look at the `pd.to_datetime` method."
   ]
  },
  {
   "cell_type": "code",
   "execution_count": null,
   "metadata": {},
   "outputs": [],
   "source": [
    "#pd.to_datetime?"
   ]
  },
  {
   "cell_type": "code",
   "execution_count": null,
   "metadata": {},
   "outputs": [],
   "source": [
    "episode_list['Original air date'].apply(pd.to_datetime)"
   ]
  },
  {
   "cell_type": "markdown",
   "metadata": {},
   "source": [
    "This information, `May 14, 2009`, thankfully, is in a format that Pandas can convert with `pd.to_datetime`.\n",
    "\n",
    "*we'll be coming back here later...*"
   ]
  },
  {
   "cell_type": "code",
   "execution_count": null,
   "metadata": {},
   "outputs": [],
   "source": [
    "episode_list['Original air date'] = episode_list['Original air date'].apply(pd.to_datetime)"
   ]
  },
  {
   "cell_type": "markdown",
   "metadata": {},
   "source": [
    "Now, let's do some graphing!\n",
    "\n",
    "First, we'll tell jupyter that we want to do the graphs inline, and then we'll import another library."
   ]
  },
  {
   "cell_type": "code",
   "execution_count": null,
   "metadata": {},
   "outputs": [],
   "source": [
    "%matplotlib inline\n",
    "import matplotlib.pyplot as plt"
   ]
  },
  {
   "cell_type": "markdown",
   "metadata": {},
   "source": [
    "Graphing can be as simple as using the `.plot()` method."
   ]
  },
  {
   "cell_type": "code",
   "execution_count": null,
   "metadata": {
    "scrolled": true
   },
   "outputs": [],
   "source": [
    "episode_list.iloc[:,5:7].plot(); "
   ]
  },
  {
   "cell_type": "markdown",
   "metadata": {},
   "source": [
    "But what if we want to get really fancy? PyPlot has some really excellent features. We can append this stuff to the default figure 1."
   ]
  },
  {
   "cell_type": "code",
   "execution_count": null,
   "metadata": {},
   "outputs": [],
   "source": [
    "#plt.plot?"
   ]
  },
  {
   "cell_type": "code",
   "execution_count": null,
   "metadata": {},
   "outputs": [],
   "source": [
    "print(type(episode_list.iloc[:,1]))\n",
    "print(type(episode_list.iloc[:,1].values))"
   ]
  },
  {
   "cell_type": "code",
   "execution_count": null,
   "metadata": {},
   "outputs": [],
   "source": [
    "#plt.xticks?"
   ]
  },
  {
   "cell_type": "code",
   "execution_count": null,
   "metadata": {},
   "outputs": [],
   "source": [
    "episode_titles = episode_list.iloc[:,1].values\n",
    "episode_viewers = episode_list.iloc[:,5].values\n",
    "\n",
    "index = np.arange(len(episode_list))\n",
    "\n",
    "plt.figure(num=None, figsize=(16, 8), facecolor='w', edgecolor='k')\n",
    "plt.xlabel('Episode Titles')\n",
    "plt.title('Parks & Recreation Viewer Stats')\n",
    "plt.xticks(index,episode_titles,rotation=90)\n",
    "plt.ylabel('Viewers (in millions)')\n",
    "plt.plot(index, episode_viewers,'b',label='Viewers')\n",
    "plt.plot(pd.Series(episode_viewers).rolling(window=3).mean(),'r',label='Rolling Mean')\n",
    "plt.grid()\n",
    "\n",
    "plt.legend()\n",
    "plt.show()"
   ]
  }
 ],
 "metadata": {
  "anaconda-cloud": {},
  "kernelspec": {
   "display_name": "Python 3",
   "language": "python",
   "name": "python3"
  },
  "language_info": {
   "codemirror_mode": {
    "name": "ipython",
    "version": 3
   },
   "file_extension": ".py",
   "mimetype": "text/x-python",
   "name": "python",
   "nbconvert_exporter": "python",
   "pygments_lexer": "ipython3",
   "version": "3.9.4"
  }
 },
 "nbformat": 4,
 "nbformat_minor": 1
}
