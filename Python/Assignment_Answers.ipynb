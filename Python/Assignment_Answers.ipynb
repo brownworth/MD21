{
 "cells": [
  {
   "cell_type": "markdown",
   "metadata": {},
   "source": [
    "## Skill Builder Answer Key!\n",
    "\n",
    "These are my proposed answers for the skill builder assignments. There may be other (or even better!) ways to accomplish the following."
   ]
  },
  {
   "cell_type": "code",
   "execution_count": 1,
   "metadata": {},
   "outputs": [],
   "source": [
    "import pandas as pd\n",
    "import numpy as np\n",
    "import re"
   ]
  },
  {
   "cell_type": "markdown",
   "metadata": {},
   "source": [
    "### SB-1\n",
    "\n",
    "1) Using the string of months separate it into a **list** of individual months.\n",
    "\n",
    "2) Create a new list of the months as just their first three letters.\n",
    "\n",
    "3) Create a list of the months with just the first three letters, and CAPITALIZE them\n",
    "\n",
    "4) Take the first list and capitalize the first letter of each month (extra credit)"
   ]
  },
  {
   "cell_type": "code",
   "execution_count": 2,
   "metadata": {},
   "outputs": [],
   "source": [
    "months = \"january february march april may june july august september october november december\""
   ]
  },
  {
   "cell_type": "code",
   "execution_count": 3,
   "metadata": {},
   "outputs": [
    {
     "name": "stdout",
     "output_type": "stream",
     "text": [
      "['january', 'february', 'march', 'april', 'may', 'june', 'july', 'august', 'september', 'october', 'november', 'december']\n"
     ]
    }
   ],
   "source": [
    "# 1\n",
    "month_list = months.split()\n",
    "print(month_list)"
   ]
  },
  {
   "cell_type": "code",
   "execution_count": 4,
   "metadata": {},
   "outputs": [
    {
     "name": "stdout",
     "output_type": "stream",
     "text": [
      "['jan', 'feb', 'mar', 'apr', 'may', 'jun', 'jul', 'aug', 'sep', 'oct', 'nov', 'dec']\n"
     ]
    }
   ],
   "source": [
    "# 2\n",
    "month_list_short = [month[:3] for month in month_list] # remember your list comprehension!\n",
    "print(month_list_short)"
   ]
  },
  {
   "cell_type": "code",
   "execution_count": 5,
   "metadata": {},
   "outputs": [
    {
     "name": "stdout",
     "output_type": "stream",
     "text": [
      "['JAN', 'FEB', 'MAR', 'APR', 'MAY', 'JUN', 'JUL', 'AUG', 'SEP', 'OCT', 'NOV', 'DEC']\n"
     ]
    }
   ],
   "source": [
    "# 3\n",
    "month_list_short_caps = [month.upper() for month in month_list_short]\n",
    "print(month_list_short_caps)"
   ]
  },
  {
   "cell_type": "code",
   "execution_count": 6,
   "metadata": {},
   "outputs": [
    {
     "name": "stdout",
     "output_type": "stream",
     "text": [
      "['January', 'February', 'March', 'April', 'May', 'June', 'July', 'August', 'September', 'October', 'November', 'December']\n"
     ]
    }
   ],
   "source": [
    "# 4\n",
    "month_list_caps = [month[0].upper()+month[1:] for month in month_list]\n",
    "print(month_list_caps)"
   ]
  },
  {
   "cell_type": "code",
   "execution_count": 7,
   "metadata": {},
   "outputs": [
    {
     "name": "stdout",
     "output_type": "stream",
     "text": [
      "['January', 'February', 'March', 'April', 'May', 'June', 'July', 'August', 'September', 'October', 'November', 'December']\n"
     ]
    }
   ],
   "source": [
    "# alternatively, there's another way to do the one above\n",
    "month_list_caps = [month.title() for month in month_list]\n",
    "print(month_list_caps)"
   ]
  },
  {
   "cell_type": "markdown",
   "metadata": {},
   "source": [
    "### SB-2\n",
    "\n",
    "1) Add a column to the grades_final DataFrame called 'Absences'\n",
    "\n",
    "2) Set TBAKER's Absences to 3, SMCCOY's to 8, and CECCLES' to 5\n",
    "\n",
    "3) Change the values in 'W.Avg.' so that students lose a grade point for each absence\n",
    "\n",
    "4) Return a dataframe of all students who have more than one absence and lower than a 80 for the class\n",
    "\n",
    "5) Get the class average for the Weighted Average"
   ]
  },
  {
   "cell_type": "code",
   "execution_count": 8,
   "metadata": {},
   "outputs": [],
   "source": [
    "# code necessary to recreate the DataFrame:\n",
    "series_a = pd.Series([90,85,88,86,91,79,82,65,88,87,96,98])\n",
    "student_names = pd.Series(['WHARTNE','PTROUGH','JPERTWE','TBAKER','PDAVISO','CBAKER',\n",
    "                 'SMCCOY','PMCGANN','CECCLES','DTENNAN','MSMITH','PCAPALD','JWHITTA'])\n",
    "grades = pd.concat({'Names':student_names,'Midterm':series_a},axis=1)\n",
    "grades.loc[12,'Midterm'] = 91\n",
    "final = pd.Series(np.random.randint(69,high=100,size=13))\n",
    "grades_final = pd.concat([grades,final],axis=1)\n",
    "grades_final.rename(columns={0:'Final'},inplace=True)\n",
    "grades_final = grades_final.set_index('Names')\n",
    "grades_final['Avg.'] = grades_final.mean(axis=1)\n",
    "grades_final['W.Avg.'] = (grades_final['Midterm'] *.4 + grades_final['Final'] *.6)"
   ]
  },
  {
   "cell_type": "code",
   "execution_count": 9,
   "metadata": {},
   "outputs": [],
   "source": [
    "# answers using the above dataframe:\n",
    "# 1\n",
    "grades_final['Absences'] = 0"
   ]
  },
  {
   "cell_type": "code",
   "execution_count": 10,
   "metadata": {},
   "outputs": [],
   "source": [
    "# 2 (one way)\n",
    "grades_final.loc['TBAKER','Absences'] = 3\n",
    "grades_final.loc['SMCCOY','Absences'] = 8\n",
    "grades_final.loc['CECCLES','Absences'] = 5\n",
    "\n",
    "# 2 (other way)\n",
    "grades_final.loc[['TBAKER','SMCCOY','CECCLES'],'Absences'] = [3,8,5]"
   ]
  },
  {
   "cell_type": "code",
   "execution_count": 11,
   "metadata": {},
   "outputs": [],
   "source": [
    "# 3\n",
    "grades_final['W.Avg.'] = grades_final['W.Avg.'] - grades_final['Absences']"
   ]
  },
  {
   "cell_type": "code",
   "execution_count": 12,
   "metadata": {},
   "outputs": [
    {
     "data": {
      "text/html": [
       "<div>\n",
       "<style scoped>\n",
       "    .dataframe tbody tr th:only-of-type {\n",
       "        vertical-align: middle;\n",
       "    }\n",
       "\n",
       "    .dataframe tbody tr th {\n",
       "        vertical-align: top;\n",
       "    }\n",
       "\n",
       "    .dataframe thead th {\n",
       "        text-align: right;\n",
       "    }\n",
       "</style>\n",
       "<table border=\"1\" class=\"dataframe\">\n",
       "  <thead>\n",
       "    <tr style=\"text-align: right;\">\n",
       "      <th></th>\n",
       "      <th>Midterm</th>\n",
       "      <th>Final</th>\n",
       "      <th>Avg.</th>\n",
       "      <th>W.Avg.</th>\n",
       "      <th>Absences</th>\n",
       "    </tr>\n",
       "    <tr>\n",
       "      <th>Names</th>\n",
       "      <th></th>\n",
       "      <th></th>\n",
       "      <th></th>\n",
       "      <th></th>\n",
       "      <th></th>\n",
       "    </tr>\n",
       "  </thead>\n",
       "  <tbody>\n",
       "    <tr>\n",
       "      <th>SMCCOY</th>\n",
       "      <td>82.0</td>\n",
       "      <td>89</td>\n",
       "      <td>85.5</td>\n",
       "      <td>78.2</td>\n",
       "      <td>8</td>\n",
       "    </tr>\n",
       "  </tbody>\n",
       "</table>\n",
       "</div>"
      ],
      "text/plain": [
       "        Midterm  Final  Avg.  W.Avg.  Absences\n",
       "Names                                         \n",
       "SMCCOY     82.0     89  85.5    78.2         8"
      ]
     },
     "execution_count": 12,
     "metadata": {},
     "output_type": "execute_result"
    }
   ],
   "source": [
    "# 4 - remember, your output may be different, as some of the grades are generated randomly.\n",
    "grades_final[(grades_final['Absences'] > 1) & (grades_final['W.Avg.'] < 80)]"
   ]
  },
  {
   "cell_type": "code",
   "execution_count": 13,
   "metadata": {},
   "outputs": [
    {
     "data": {
      "text/html": [
       "<div>\n",
       "<style scoped>\n",
       "    .dataframe tbody tr th:only-of-type {\n",
       "        vertical-align: middle;\n",
       "    }\n",
       "\n",
       "    .dataframe tbody tr th {\n",
       "        vertical-align: top;\n",
       "    }\n",
       "\n",
       "    .dataframe thead th {\n",
       "        text-align: right;\n",
       "    }\n",
       "</style>\n",
       "<table border=\"1\" class=\"dataframe\">\n",
       "  <thead>\n",
       "    <tr style=\"text-align: right;\">\n",
       "      <th></th>\n",
       "      <th>Midterm</th>\n",
       "      <th>Final</th>\n",
       "      <th>Avg.</th>\n",
       "      <th>W.Avg.</th>\n",
       "      <th>Absences</th>\n",
       "    </tr>\n",
       "    <tr>\n",
       "      <th>Names</th>\n",
       "      <th></th>\n",
       "      <th></th>\n",
       "      <th></th>\n",
       "      <th></th>\n",
       "      <th></th>\n",
       "    </tr>\n",
       "  </thead>\n",
       "  <tbody>\n",
       "    <tr>\n",
       "      <th>WHARTNE</th>\n",
       "      <td>90.0</td>\n",
       "      <td>93</td>\n",
       "      <td>91.5</td>\n",
       "      <td>91.8</td>\n",
       "      <td>0</td>\n",
       "    </tr>\n",
       "    <tr>\n",
       "      <th>PTROUGH</th>\n",
       "      <td>85.0</td>\n",
       "      <td>77</td>\n",
       "      <td>81.0</td>\n",
       "      <td>80.2</td>\n",
       "      <td>0</td>\n",
       "    </tr>\n",
       "    <tr>\n",
       "      <th>JPERTWE</th>\n",
       "      <td>88.0</td>\n",
       "      <td>72</td>\n",
       "      <td>80.0</td>\n",
       "      <td>78.4</td>\n",
       "      <td>0</td>\n",
       "    </tr>\n",
       "    <tr>\n",
       "      <th>TBAKER</th>\n",
       "      <td>86.0</td>\n",
       "      <td>97</td>\n",
       "      <td>91.5</td>\n",
       "      <td>89.6</td>\n",
       "      <td>3</td>\n",
       "    </tr>\n",
       "    <tr>\n",
       "      <th>PDAVISO</th>\n",
       "      <td>91.0</td>\n",
       "      <td>88</td>\n",
       "      <td>89.5</td>\n",
       "      <td>89.2</td>\n",
       "      <td>0</td>\n",
       "    </tr>\n",
       "    <tr>\n",
       "      <th>CBAKER</th>\n",
       "      <td>79.0</td>\n",
       "      <td>90</td>\n",
       "      <td>84.5</td>\n",
       "      <td>85.6</td>\n",
       "      <td>0</td>\n",
       "    </tr>\n",
       "    <tr>\n",
       "      <th>SMCCOY</th>\n",
       "      <td>82.0</td>\n",
       "      <td>89</td>\n",
       "      <td>85.5</td>\n",
       "      <td>78.2</td>\n",
       "      <td>8</td>\n",
       "    </tr>\n",
       "    <tr>\n",
       "      <th>PMCGANN</th>\n",
       "      <td>65.0</td>\n",
       "      <td>90</td>\n",
       "      <td>77.5</td>\n",
       "      <td>80.0</td>\n",
       "      <td>0</td>\n",
       "    </tr>\n",
       "    <tr>\n",
       "      <th>CECCLES</th>\n",
       "      <td>88.0</td>\n",
       "      <td>83</td>\n",
       "      <td>85.5</td>\n",
       "      <td>80.0</td>\n",
       "      <td>5</td>\n",
       "    </tr>\n",
       "    <tr>\n",
       "      <th>DTENNAN</th>\n",
       "      <td>87.0</td>\n",
       "      <td>92</td>\n",
       "      <td>89.5</td>\n",
       "      <td>90.0</td>\n",
       "      <td>0</td>\n",
       "    </tr>\n",
       "    <tr>\n",
       "      <th>MSMITH</th>\n",
       "      <td>96.0</td>\n",
       "      <td>78</td>\n",
       "      <td>87.0</td>\n",
       "      <td>85.2</td>\n",
       "      <td>0</td>\n",
       "    </tr>\n",
       "    <tr>\n",
       "      <th>PCAPALD</th>\n",
       "      <td>98.0</td>\n",
       "      <td>70</td>\n",
       "      <td>84.0</td>\n",
       "      <td>81.2</td>\n",
       "      <td>0</td>\n",
       "    </tr>\n",
       "    <tr>\n",
       "      <th>JWHITTA</th>\n",
       "      <td>91.0</td>\n",
       "      <td>83</td>\n",
       "      <td>87.0</td>\n",
       "      <td>86.2</td>\n",
       "      <td>0</td>\n",
       "    </tr>\n",
       "  </tbody>\n",
       "</table>\n",
       "</div>"
      ],
      "text/plain": [
       "         Midterm  Final  Avg.  W.Avg.  Absences\n",
       "Names                                          \n",
       "WHARTNE     90.0     93  91.5    91.8         0\n",
       "PTROUGH     85.0     77  81.0    80.2         0\n",
       "JPERTWE     88.0     72  80.0    78.4         0\n",
       "TBAKER      86.0     97  91.5    89.6         3\n",
       "PDAVISO     91.0     88  89.5    89.2         0\n",
       "CBAKER      79.0     90  84.5    85.6         0\n",
       "SMCCOY      82.0     89  85.5    78.2         8\n",
       "PMCGANN     65.0     90  77.5    80.0         0\n",
       "CECCLES     88.0     83  85.5    80.0         5\n",
       "DTENNAN     87.0     92  89.5    90.0         0\n",
       "MSMITH      96.0     78  87.0    85.2         0\n",
       "PCAPALD     98.0     70  84.0    81.2         0\n",
       "JWHITTA     91.0     83  87.0    86.2         0"
      ]
     },
     "execution_count": 13,
     "metadata": {},
     "output_type": "execute_result"
    }
   ],
   "source": [
    "grades_final"
   ]
  },
  {
   "cell_type": "markdown",
   "metadata": {},
   "source": [
    "### SB-3\n",
    "\n",
    "1) Using the text below, create a list of expenditures by day.\n",
    "\n",
    "2) Take the list from above and create a dictionary\n",
    "\n",
    "3) Using the dictionary, write the code that returns the amount spent if a day is given\n",
    "\n",
    "4) convert the values in the dictionary to a format that _preserves the decimal_ (hint)"
   ]
  },
  {
   "cell_type": "code",
   "execution_count": 14,
   "metadata": {},
   "outputs": [],
   "source": [
    "# triple quotes around the text, ''' like this ''', allow you to write a string across multiple lines.\n",
    "email_text = '''\n",
    "    Bill,\n",
    "    I was just going to follow up with you about the trip. On Friday, I spent $145.53 on lumber and supplies.\n",
    "    On Saturday, I spent $86.65 on panels and Sunday, I spent $52.28 on adhesives. I have the receipts, and\n",
    "    I'll drop those by Tuesday.\n",
    "    Thanks,\n",
    "    Sarah\n",
    "\n",
    "'''"
   ]
  },
  {
   "cell_type": "code",
   "execution_count": 15,
   "metadata": {},
   "outputs": [],
   "source": [
    "# 1\n",
    "expend = re.findall(r'(\\w+day), I spent \\$(\\d+\\.\\d+)',email_text)"
   ]
  },
  {
   "cell_type": "code",
   "execution_count": 16,
   "metadata": {},
   "outputs": [],
   "source": [
    "# 2\n",
    "daily_spend = dict(expend)"
   ]
  },
  {
   "cell_type": "code",
   "execution_count": 17,
   "metadata": {},
   "outputs": [
    {
     "data": {
      "text/plain": [
       "'145.53'"
      ]
     },
     "execution_count": 17,
     "metadata": {},
     "output_type": "execute_result"
    }
   ],
   "source": [
    "# 3\n",
    "daily_spend.get('Friday')"
   ]
  },
  {
   "cell_type": "code",
   "execution_count": 18,
   "metadata": {},
   "outputs": [],
   "source": [
    "# 4\n",
    "daily_spend_float = {day:float(amount) for day,amount in daily_spend.items()}"
   ]
  },
  {
   "cell_type": "markdown",
   "metadata": {},
   "source": [
    "### SB-4\n",
    "\n",
    "1) Write a new function called three_groups that takes a single argument called cellVal\n",
    "\n",
    "2) Using this function, perform the following three operations based upon the size of the number: (You'll need a new tool called elif (else-if) for the middle one. Try it!)\n",
    "\n",
    "    - 0-11: Multiply it by 10\n",
    "    - 12-23: Subtract 6\n",
    "    - 24-35: Square it\n",
    "    \n",
    "3) Run the function on each value in the DataFrame"
   ]
  },
  {
   "cell_type": "code",
   "execution_count": 19,
   "metadata": {},
   "outputs": [],
   "source": [
    "test_data = pd.DataFrame(np.arange(36).reshape(6,6),columns=('alpha','bravo','charlie','delta','echo','foxtrot'))"
   ]
  },
  {
   "cell_type": "code",
   "execution_count": 20,
   "metadata": {},
   "outputs": [],
   "source": [
    "def three_groups(cellVal):\n",
    "    if cellVal < 12:\n",
    "        return cellVal * 10\n",
    "    elif cellVal < 24: # note: we don't need to check to see if it's greater than 11, we already did!\n",
    "        return cellVal - 6\n",
    "    else:\n",
    "        return cellVal ** 2"
   ]
  },
  {
   "cell_type": "code",
   "execution_count": 21,
   "metadata": {},
   "outputs": [
    {
     "data": {
      "text/html": [
       "<div>\n",
       "<style scoped>\n",
       "    .dataframe tbody tr th:only-of-type {\n",
       "        vertical-align: middle;\n",
       "    }\n",
       "\n",
       "    .dataframe tbody tr th {\n",
       "        vertical-align: top;\n",
       "    }\n",
       "\n",
       "    .dataframe thead th {\n",
       "        text-align: right;\n",
       "    }\n",
       "</style>\n",
       "<table border=\"1\" class=\"dataframe\">\n",
       "  <thead>\n",
       "    <tr style=\"text-align: right;\">\n",
       "      <th></th>\n",
       "      <th>alpha</th>\n",
       "      <th>bravo</th>\n",
       "      <th>charlie</th>\n",
       "      <th>delta</th>\n",
       "      <th>echo</th>\n",
       "      <th>foxtrot</th>\n",
       "    </tr>\n",
       "  </thead>\n",
       "  <tbody>\n",
       "    <tr>\n",
       "      <th>0</th>\n",
       "      <td>0</td>\n",
       "      <td>1</td>\n",
       "      <td>2</td>\n",
       "      <td>3</td>\n",
       "      <td>4</td>\n",
       "      <td>5</td>\n",
       "    </tr>\n",
       "    <tr>\n",
       "      <th>1</th>\n",
       "      <td>6</td>\n",
       "      <td>7</td>\n",
       "      <td>8</td>\n",
       "      <td>9</td>\n",
       "      <td>10</td>\n",
       "      <td>11</td>\n",
       "    </tr>\n",
       "    <tr>\n",
       "      <th>2</th>\n",
       "      <td>12</td>\n",
       "      <td>13</td>\n",
       "      <td>14</td>\n",
       "      <td>15</td>\n",
       "      <td>16</td>\n",
       "      <td>17</td>\n",
       "    </tr>\n",
       "    <tr>\n",
       "      <th>3</th>\n",
       "      <td>18</td>\n",
       "      <td>19</td>\n",
       "      <td>20</td>\n",
       "      <td>21</td>\n",
       "      <td>22</td>\n",
       "      <td>23</td>\n",
       "    </tr>\n",
       "    <tr>\n",
       "      <th>4</th>\n",
       "      <td>24</td>\n",
       "      <td>25</td>\n",
       "      <td>26</td>\n",
       "      <td>27</td>\n",
       "      <td>28</td>\n",
       "      <td>29</td>\n",
       "    </tr>\n",
       "    <tr>\n",
       "      <th>5</th>\n",
       "      <td>30</td>\n",
       "      <td>31</td>\n",
       "      <td>32</td>\n",
       "      <td>33</td>\n",
       "      <td>34</td>\n",
       "      <td>35</td>\n",
       "    </tr>\n",
       "  </tbody>\n",
       "</table>\n",
       "</div>"
      ],
      "text/plain": [
       "   alpha  bravo  charlie  delta  echo  foxtrot\n",
       "0      0      1        2      3     4        5\n",
       "1      6      7        8      9    10       11\n",
       "2     12     13       14     15    16       17\n",
       "3     18     19       20     21    22       23\n",
       "4     24     25       26     27    28       29\n",
       "5     30     31       32     33    34       35"
      ]
     },
     "execution_count": 21,
     "metadata": {},
     "output_type": "execute_result"
    }
   ],
   "source": [
    "test_data"
   ]
  },
  {
   "cell_type": "code",
   "execution_count": 22,
   "metadata": {},
   "outputs": [
    {
     "data": {
      "text/html": [
       "<div>\n",
       "<style scoped>\n",
       "    .dataframe tbody tr th:only-of-type {\n",
       "        vertical-align: middle;\n",
       "    }\n",
       "\n",
       "    .dataframe tbody tr th {\n",
       "        vertical-align: top;\n",
       "    }\n",
       "\n",
       "    .dataframe thead th {\n",
       "        text-align: right;\n",
       "    }\n",
       "</style>\n",
       "<table border=\"1\" class=\"dataframe\">\n",
       "  <thead>\n",
       "    <tr style=\"text-align: right;\">\n",
       "      <th></th>\n",
       "      <th>alpha</th>\n",
       "      <th>bravo</th>\n",
       "      <th>charlie</th>\n",
       "      <th>delta</th>\n",
       "      <th>echo</th>\n",
       "      <th>foxtrot</th>\n",
       "    </tr>\n",
       "  </thead>\n",
       "  <tbody>\n",
       "    <tr>\n",
       "      <th>0</th>\n",
       "      <td>0</td>\n",
       "      <td>10</td>\n",
       "      <td>20</td>\n",
       "      <td>30</td>\n",
       "      <td>40</td>\n",
       "      <td>50</td>\n",
       "    </tr>\n",
       "    <tr>\n",
       "      <th>1</th>\n",
       "      <td>60</td>\n",
       "      <td>70</td>\n",
       "      <td>80</td>\n",
       "      <td>90</td>\n",
       "      <td>100</td>\n",
       "      <td>110</td>\n",
       "    </tr>\n",
       "    <tr>\n",
       "      <th>2</th>\n",
       "      <td>6</td>\n",
       "      <td>7</td>\n",
       "      <td>8</td>\n",
       "      <td>9</td>\n",
       "      <td>10</td>\n",
       "      <td>11</td>\n",
       "    </tr>\n",
       "    <tr>\n",
       "      <th>3</th>\n",
       "      <td>12</td>\n",
       "      <td>13</td>\n",
       "      <td>14</td>\n",
       "      <td>15</td>\n",
       "      <td>16</td>\n",
       "      <td>17</td>\n",
       "    </tr>\n",
       "    <tr>\n",
       "      <th>4</th>\n",
       "      <td>576</td>\n",
       "      <td>625</td>\n",
       "      <td>676</td>\n",
       "      <td>729</td>\n",
       "      <td>784</td>\n",
       "      <td>841</td>\n",
       "    </tr>\n",
       "    <tr>\n",
       "      <th>5</th>\n",
       "      <td>900</td>\n",
       "      <td>961</td>\n",
       "      <td>1024</td>\n",
       "      <td>1089</td>\n",
       "      <td>1156</td>\n",
       "      <td>1225</td>\n",
       "    </tr>\n",
       "  </tbody>\n",
       "</table>\n",
       "</div>"
      ],
      "text/plain": [
       "   alpha  bravo  charlie  delta  echo  foxtrot\n",
       "0      0     10       20     30    40       50\n",
       "1     60     70       80     90   100      110\n",
       "2      6      7        8      9    10       11\n",
       "3     12     13       14     15    16       17\n",
       "4    576    625      676    729   784      841\n",
       "5    900    961     1024   1089  1156     1225"
      ]
     },
     "execution_count": 22,
     "metadata": {},
     "output_type": "execute_result"
    }
   ],
   "source": [
    "test_data.applymap(three_groups)"
   ]
  }
 ],
 "metadata": {
  "kernelspec": {
   "display_name": "Python 3",
   "language": "python",
   "name": "python3"
  },
  "language_info": {
   "codemirror_mode": {
    "name": "ipython",
    "version": 3
   },
   "file_extension": ".py",
   "mimetype": "text/x-python",
   "name": "python",
   "nbconvert_exporter": "python",
   "pygments_lexer": "ipython3",
   "version": "3.8.5"
  }
 },
 "nbformat": 4,
 "nbformat_minor": 4
}
